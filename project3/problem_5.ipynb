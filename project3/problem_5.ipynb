{
 "cells": [
  {
   "cell_type": "markdown",
   "metadata": {},
   "source": [
    "# Building a Trie in Python\n",
    "\n",
    "Before we start let us reiterate the key components of a Trie or Prefix Tree. A trie is a tree-like data structure that stores a dynamic set of strings. Tries are commonly used to facilitate operations like predictive text or autocomplete features on mobile phones or web search.\n",
    "\n",
    "Before we move into the autocomplete function we need to create a working trie for storing strings.  We will create two classes:\n",
    "* A `Trie` class that contains the root node (empty string)\n",
    "* A `TrieNode` class that exposes the general functionality of the Trie, like inserting a word or finding the node which represents a prefix.\n",
    "\n",
    "Give it a try by implementing the `TrieNode` and `Trie` classes below!"
   ]
  },
  {
   "cell_type": "code",
   "execution_count": 195,
   "metadata": {
    "pycharm": {
     "is_executing": false
    }
   },
   "outputs": [],
   "source": [
    "## Represents a single node in the Trie\n",
    "class TrieNode:\n",
    "    def __init__(self):\n",
    "        ## Initialize this node in the Trie\n",
    "        self.children = {}\n",
    "        self.is_word = False\n",
    "    \n",
    "    def insert(self, char):\n",
    "        ## Add a child node in this Trie\n",
    "        if char not in self.children:\n",
    "            self.children[char] = None\n",
    "            \n",
    "    def __repr__(self):\n",
    "        return \"{} {}\".format(self.children, self.is_word)\n",
    "        \n",
    "        \n",
    "## The Trie itself containing the root node and insert/find functions\n",
    "class Trie:\n",
    "    def __init__(self):\n",
    "        ## Initialize this Trie (add a root node)\n",
    "        self.root = TrieNode()\n",
    "\n",
    "    def insert(self, word):\n",
    "        ## Add a word to the Trie\n",
    "        trieverser = self.root\n",
    "        \n",
    "        for index, character in enumerate(word):\n",
    "            node = TrieNode()\n",
    "            \n",
    "            if character not in trieverser.children:\n",
    "                trieverser.children[character] = node\n",
    "                if index == len(word) - 1:\n",
    "                    node.is_word = True\n",
    "                \n",
    "            trieverser = trieverser.children[character]\n",
    "                    \n",
    "            \n",
    "    def find(self, prefix):\n",
    "        ## Find the Trie node that represents this prefix\n",
    "        trieverser = self.root\n",
    "        \n",
    "        for index, character in enumerate(prefix):\n",
    "            if character in trieverser.children:\n",
    "                trieverser = trieverser.children[character]\n",
    "            else:\n",
    "                trieverser = None\n",
    "            \n",
    "        return trieverser\n",
    "            "
   ]
  },
  {
   "cell_type": "markdown",
   "metadata": {},
   "source": [
    "# Finding Suffixes\n",
    "\n",
    "Now that we have a functioning Trie, we need to add the ability to list suffixes to implement our autocomplete feature.  To do that, we need to implement a new function on the `TrieNode` object that will return all complete word suffixes that exist below it in the trie.  For example, if our Trie contains the words `[\"fun\", \"function\", \"factory\"]` and we ask for suffixes from the `f` node, we would expect to receive `[\"un\", \"unction\", \"actory\"]` back from `node.suffixes()`.\n",
    "\n",
    "Using the code you wrote for the `TrieNode` above, try to add the suffixes function below. (Hint: recurse down the trie, collecting suffixes as you go.)"
   ]
  },
  {
   "cell_type": "code",
   "execution_count": 196,
   "metadata": {},
   "outputs": [],
   "source": [
    "class TrieNode:\n",
    "    def __init__(self):\n",
    "        ## Initialize this node in the Trie\n",
    "        self.children = {}\n",
    "        self.is_word = False\n",
    "    \n",
    "    def insert(self, char):\n",
    "        ## Add a child node in this Trie\n",
    "        if char not in self.children:\n",
    "            self.children[char] = None\n",
    "    \n",
    "    def __traverse_node_till_end__(self, node, result, result_list):\n",
    "        #print(\"node {}\".format(node))\n",
    "        if len(node.children) == 0 and len(result) > 0:\n",
    "            result_list.append(result)\n",
    "            #return result_list\n",
    "        else:\n",
    "            if node.is_word == True:\n",
    "                result_list.append(result)\n",
    "            \n",
    "            for current_key in node.children.keys():\n",
    "                new_result = \"{}{}\".format(result, current_key)\n",
    "                self.__traverse_node_till_end__(node.children[current_key], new_result, result_list)\n",
    "\n",
    "    def suffixes(self):\n",
    "        results_list =  []\n",
    "        self.__traverse_node_till_end__(self, \"\",results_list)\n",
    "        print(results_list)\n",
    "        return results_list\n",
    "    \n",
    "    def __repr__(self):\n",
    "        return \"{} {}\".format(self.children, self.is_word)\n"
   ]
  },
  {
   "cell_type": "markdown",
   "metadata": {},
   "source": [
    "# Testing it all out\n",
    "\n",
    "Run the following code to add some words to your trie and then use the interactive search box to see what your code returns."
   ]
  },
  {
   "cell_type": "code",
   "execution_count": 197,
   "metadata": {
    "pycharm": {
     "is_executing": false
    }
   },
   "outputs": [
    {
     "name": "stdout",
     "output_type": "stream",
     "text": [
      "{'a': {'n': {'t': {'h': {'o': {'l': {'o': {'g': {'y': {} True} False} False} False} False} False, 'a': {'g': {'o': {'n': {'i': {'s': {'t': {} True} False} False} False} False} False} False, 'o': {'n': {'y': {'m': {} True} False} False} False} True} False} False, 'f': {'u': {'n': {'c': {'t': {'i': {'o': {'n': {} True} False} False} False} False} True} False, 'a': {'c': {'t': {'o': {'r': {'y': {} True} False} False} False} False} False} False, 't': {'r': {'i': {'e': {} True, 'g': {'g': {'e': {'r': {} True} False} False, 'o': {'n': {'o': {'m': {'e': {'t': {'r': {'y': {} True} False} False} False} False} False} False} False} False, 'p': {'o': {'d': {} True} False} False} False} False} False} False\n",
      "\n"
     ]
    }
   ],
   "source": [
    "MyTrie = Trie()\n",
    "wordList = [\n",
    "    \"ant\", \"anthology\", \"antagonist\", \"antonym\", \n",
    "    \"fun\", \"function\", \"factory\", \n",
    "    \"trie\", \"trigger\", \"trigonometry\", \"tripod\"\n",
    "]\n",
    "for word in wordList:\n",
    "    MyTrie.insert(word)\n",
    "    \n",
    "print(\"{}\\n\".format(MyTrie.root))\n",
    "#node = MyTrie.find(\"f\")\n",
    "# results =  []\n",
    "# print((node.__traverse_node_till_end__(node, \"\", results)))\n",
    "# print(\"{}\\n\".format(results))\n"
   ]
  },
  {
   "cell_type": "code",
   "execution_count": 198,
   "metadata": {
    "pycharm": {
     "is_executing": false
    }
   },
   "outputs": [
    {
     "data": {
      "application/vnd.jupyter.widget-view+json": {
       "model_id": "b3cac058a694416a88a23aa56c5ffe7a",
       "version_major": 2,
       "version_minor": 0
      },
      "text/plain": [
       "interactive(children=(Text(value='', description='prefix'), Output()), _dom_classes=('widget-interact',))"
      ]
     },
     "metadata": {},
     "output_type": "display_data"
    }
   ],
   "source": [
    "from ipywidgets import widgets\n",
    "from IPython.display import display\n",
    "from ipywidgets import interact\n",
    "def f(prefix):\n",
    "    if prefix != '':\n",
    "        prefixNode = MyTrie.find(prefix)\n",
    "        print(\"{} \\t{}\\n\".format(prefixNode, prefix))\n",
    "        if prefixNode:\n",
    "            print('\\n'.join(prefixNode.suffixes()))\n",
    "        else:\n",
    "            print(prefix + \" not found\")\n",
    "    else:\n",
    "        print('')\n",
    "interact(f,prefix='');"
   ]
  },
  {
   "cell_type": "code",
   "execution_count": null,
   "metadata": {},
   "outputs": [],
   "source": []
  },
  {
   "cell_type": "code",
   "execution_count": null,
   "metadata": {},
   "outputs": [],
   "source": []
  }
 ],
 "metadata": {
  "kernelspec": {
   "display_name": "Python 3",
   "language": "python",
   "name": "python3"
  },
  "language_info": {
   "codemirror_mode": {
    "name": "ipython",
    "version": 3
   },
   "file_extension": ".py",
   "mimetype": "text/x-python",
   "name": "python",
   "nbconvert_exporter": "python",
   "pygments_lexer": "ipython3",
   "version": "3.7.4"
  },
  "pycharm": {
   "stem_cell": {
    "cell_type": "raw",
    "metadata": {
     "collapsed": false
    },
    "source": []
   }
  },
  "widgets": {
   "state": {},
   "version": "1.1.2"
  }
 },
 "nbformat": 4,
 "nbformat_minor": 2
}
